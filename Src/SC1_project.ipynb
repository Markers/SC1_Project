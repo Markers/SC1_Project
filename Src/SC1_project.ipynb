{
  "cells": [
    {
      "cell_type": "code",
      "execution_count": 1,
      "metadata": {
        "colab": {
          "base_uri": "https://localhost:8080/"
        },
        "id": "0mS0tP65m8pA",
        "outputId": "d881cd8e-a8ff-49fe-bc2d-f6904340e038"
      },
      "outputs": [
        {
          "name": "stdout",
          "output_type": "stream",
          "text": [
            "Drive already mounted at /content/drive/; to attempt to forcibly remount, call drive.mount(\"/content/drive/\", force_remount=True).\n",
            "Name            object\n",
            "Platform        object\n",
            "Year           float64\n",
            "Genre           object\n",
            "Publisher       object\n",
            "NA_Sales        object\n",
            "EU_Sales        object\n",
            "JP_Sales        object\n",
            "Other_Sales     object\n",
            "dtype: object\n"
          ]
        },
        {
          "data": {
            "text/plain": [
              "Name           0\n",
              "Platform       0\n",
              "Year           0\n",
              "Genre          0\n",
              "Publisher      0\n",
              "NA_Sales       0\n",
              "EU_Sales       0\n",
              "JP_Sales       0\n",
              "Other_Sales    0\n",
              "dtype: int64"
            ]
          },
          "execution_count": 1,
          "metadata": {},
          "output_type": "execute_result"
        }
      ],
      "source": [
        "from google.colab import drive\n",
        "import pandas as pd\n",
        "import numpy as np\n",
        "url = '/content/drive/MyDrive/Colab Notebooks/vgames2.csv'\n",
        "drive.mount('/content/drive/')\n",
        "\n",
        "df = pd.read_csv(url)\n",
        "\n",
        "df = df.drop(['Unnamed: 0'], axis=1) #unnmaed 컬럼 삭제\n",
        "df = df.dropna() #nan 있는 데이터 행 다 삭제.\n",
        "print(df.dtypes)\n",
        "df\n",
        "\n",
        "df.isna().sum() # nan 있는 데이터 열의 갯수 합."
      ]
    },
    {
      "cell_type": "code",
      "execution_count": 2,
      "metadata": {
        "colab": {
          "base_uri": "https://localhost:8080/"
        },
        "id": "BrvROjp6rkKA",
        "outputId": "ce110ec4-081e-40df-e8bb-d0c9f78d596b"
      },
      "outputs": [
        {
          "data": {
            "text/plain": [
              "DS      2127\n",
              "PS2     2121\n",
              "PS3     1299\n",
              "Wii     1284\n",
              "X360    1231\n",
              "PSP     1193\n",
              "PS      1185\n",
              "PC       935\n",
              "XB       799\n",
              "GBA      784\n",
              "GC       541\n",
              "3DS      498\n",
              "PSV      409\n",
              "PS4      335\n",
              "N64      313\n",
              "SNES     239\n",
              "XOne     212\n",
              "SAT      173\n",
              "WiiU     143\n",
              "2600     115\n",
              "NES       98\n",
              "GB        97\n",
              "DC        52\n",
              "GEN       27\n",
              "NG        12\n",
              "SCD        6\n",
              "WS         6\n",
              "3DO        3\n",
              "TG16       2\n",
              "PCFX       1\n",
              "GG         1\n",
              "Name: Platform, dtype: int64"
            ]
          },
          "execution_count": 2,
          "metadata": {},
          "output_type": "execute_result"
        }
      ],
      "source": [
        "plat = df['Platform'].astype('category')\n",
        "plat.value_counts()"
      ]
    },
    {
      "cell_type": "code",
      "execution_count": 3,
      "metadata": {
        "colab": {
          "base_uri": "https://localhost:8080/"
        },
        "id": "RvLnUqOZtMHV",
        "outputId": "33139a20-b12d-4710-c8b3-3ea3400e0f1a"
      },
      "outputs": [
        {
          "name": "stderr",
          "output_type": "stream",
          "text": [
            "/usr/local/lib/python3.7/dist-packages/ipykernel_launcher.py:12: SettingWithCopyWarning: \n",
            "A value is trying to be set on a copy of a slice from a DataFrame.\n",
            "Try using .loc[row_indexer,col_indexer] = value instead\n",
            "\n",
            "See the caveats in the documentation: https://pandas.pydata.org/pandas-docs/stable/user_guide/indexing.html#returning-a-view-versus-a-copy\n",
            "  if sys.path[0] == '':\n"
          ]
        },
        {
          "data": {
            "text/plain": [
              "0        2008\n",
              "1        2009\n",
              "2        2010\n",
              "3        2010\n",
              "4        2010\n",
              "         ... \n",
              "16593    2006\n",
              "16594    2005\n",
              "16595    2015\n",
              "16596    2013\n",
              "16597    1996\n",
              "Name: Year, Length: 16241, dtype: int64"
            ]
          },
          "execution_count": 3,
          "metadata": {},
          "output_type": "execute_result"
        }
      ],
      "source": [
        "# 연도 바꾸기\n",
        "def adjust_year(df_year):\n",
        "    if df_year < 10:\n",
        "        return float('200' + str(df_year))\n",
        "    elif 10 <= df_year < 30:\n",
        "        return float('20' + str(df_year))\n",
        "    elif 30 <= df_year < 100:\n",
        "        return float('19' + str(df_year))\n",
        "    else:\n",
        "        return float(df_year)\n",
        "\n",
        "df['Year'] = df['Year'].apply(adjust_year).astype('int64')\n",
        "#df['Year'] = df['Year'].astype('int64')\n",
        "\n",
        "df['Year']\n"
      ]
    },
    {
      "cell_type": "code",
      "execution_count": 4,
      "metadata": {
        "colab": {
          "base_uri": "https://localhost:8080/"
        },
        "id": "GtetrtoNG7E0",
        "outputId": "f51bfd41-9cc4-48bb-e751-0d2986f5ae4a"
      },
      "outputs": [
        {
          "name": "stdout",
          "output_type": "stream",
          "text": [
            "0           Action\n",
            "1           Action\n",
            "2        Adventure\n",
            "3             Misc\n",
            "4         Platform\n",
            "           ...    \n",
            "16593     Platform\n",
            "16594       Action\n",
            "16595       Sports\n",
            "16596       Action\n",
            "16597     Fighting\n",
            "Name: Genre, Length: 16241, dtype: category\n",
            "Categories (12, object): ['Action', 'Adventure', 'Fighting', 'Misc', ..., 'Shooter', 'Simulation',\n",
            "                          'Sports', 'Strategy']\n"
          ]
        }
      ],
      "source": [
        "genre = df['Genre'].astype('category')\n",
        "print(genre)"
      ]
    },
    {
      "cell_type": "code",
      "execution_count": 5,
      "metadata": {
        "colab": {
          "base_uri": "https://localhost:8080/"
        },
        "id": "skb6R_UyIyQ3",
        "outputId": "4476a52e-7618-46f4-a179-bcc3a2a353f1"
      },
      "outputs": [
        {
          "name": "stdout",
          "output_type": "stream",
          "text": [
            "0                          Destineer\n",
            "1                 Namco Bandai Games\n",
            "2                          Alchemist\n",
            "3                          Zoo Games\n",
            "4                        D3Publisher\n",
            "                    ...             \n",
            "16593                  Vivendi Games\n",
            "16594              Rising Star Games\n",
            "16595           Take-Two Interactive\n",
            "16596                     Tecmo Koei\n",
            "16597    Sony Computer Entertainment\n",
            "Name: Publisher, Length: 16241, dtype: category\n",
            "Categories (575, object): ['10TACLE Studios', '1C Company', '20th Century Fox Video Games', '2D Boy',\n",
            "                           ..., 'imageepoch Inc.', 'inXile Entertainment', 'mixi, Inc',\n",
            "                           'responDESIGN']\n"
          ]
        }
      ],
      "source": [
        "publi = df['Publisher'].astype('category')\n",
        "print(publi)"
      ]
    },
    {
      "cell_type": "code",
      "execution_count": 6,
      "metadata": {
        "colab": {
          "base_uri": "https://localhost:8080/"
        },
        "id": "CnWJ4nhRJUI-",
        "outputId": "20a51e30-de6a-4f15-de53-580bfaa42995"
      },
      "outputs": [
        {
          "name": "stdout",
          "output_type": "stream",
          "text": [
            "Name           object\n",
            "Platform       object\n",
            "Year            int64\n",
            "Genre          object\n",
            "Publisher      object\n",
            "NA_Sales        int64\n",
            "EU_Sales        int64\n",
            "JP_Sales        int64\n",
            "Other_Sales     int64\n",
            "dtype: object\n",
            "Name           0\n",
            "Platform       0\n",
            "Year           0\n",
            "Genre          0\n",
            "Publisher      0\n",
            "NA_Sales       0\n",
            "EU_Sales       0\n",
            "JP_Sales       0\n",
            "Other_Sales    0\n",
            "dtype: int64\n",
            "                                                 Name  ... Other_Sales\n",
            "0                        Candace Kane's Candy Factory  ...           0\n",
            "1                                      The Munchables  ...       10000\n",
            "2      Otome wa Oanesama Boku ni Koi Shiteru Portable  ...           0\n",
            "3                    Deal or No Deal: Special Edition  ...           0\n",
            "4           Ben 10 Ultimate Alien: Cosmic Destruction  ...       40000\n",
            "...                                               ...  ...         ...\n",
            "16593                         Ice Age 2: The Meltdown  ...       10000\n",
            "16594                     Rainbow Islands: Revolution  ...           0\n",
            "16595                                        NBA 2K16  ...      130000\n",
            "16596                     Toukiden: The Age of Demons  ...       30000\n",
            "16597                        The King of Fighters '95  ...       10000\n",
            "\n",
            "[16241 rows x 9 columns]\n"
          ]
        }
      ],
      "source": [
        "def changeUnit(sales):\n",
        "    sales = sales.replace(to_replace=\"(\\d+)$\", value=r'\\1M', regex=True)\n",
        "    sales = sales.replace({\"M\": \"*1E6\", \"K\": \"*1E3\"}, regex=True).map(pd.eval).astype(int)\n",
        "    return sales\n",
        "\n",
        "df['JP_Sales'] = changeUnit(df['JP_Sales'])\n",
        "df['EU_Sales'] = changeUnit(df['EU_Sales'])\n",
        "df['NA_Sales'] = changeUnit(df['NA_Sales'])\n",
        "df['Other_Sales'] = changeUnit(df['Other_Sales'])\n",
        "\n",
        "print(df.dtypes)\n",
        "print(df.isna().sum())\n",
        "print(df)\n"
      ]
    }
  ],
  "metadata": {
    "colab": {
      "name": "Untitled1.ipynb",
      "provenance": []
    },
    "kernelspec": {
      "display_name": "Python 3",
      "name": "python3"
    },
    "language_info": {
      "name": "python"
    }
  },
  "nbformat": 4,
  "nbformat_minor": 0
}
